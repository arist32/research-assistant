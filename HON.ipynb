{
 "cells": [
  {
   "cell_type": "code",
   "execution_count": 6,
   "metadata": {},
   "outputs": [],
   "source": [
    "import numpy as np\n",
    "import tensorly as tl\n",
    "import sparse\n",
    "import itertools\n",
    "import networkx as nx\n",
    "import random as rdm\n",
    "from tensorly.contrib.sparse import tensor, unfold\n",
    "from tensorly.contrib.sparse.decomposition import tucker\n",
    "import matplotlib.pyplot as plt\n",
    "from scipy.stats import binom\n",
    "from scipy.stats import poisson\n",
    "from scipy.optimize import minimize\n",
    "from sklearn import metrics"
   ]
  },
  {
   "cell_type": "code",
   "execution_count": 106,
   "metadata": {},
   "outputs": [],
   "source": [
    "# these data are from https://github.com/arbenson/ScHoLP-Data\n",
    "# example: [{'edge': ['1', '2'], 'size': 2, 'time': 48942985907},...]\n",
    "def load_data(directory):\n",
    "    f_nedge = open(directory + '-nverts.txt', \"r\")\n",
    "    f_edge = open(directory + '-simplices.txt', \"r\")\n",
    "    f_time = open(directory + '-times.txt', \"r\")\n",
    "    #f_label = open(directory + '-simplex-labels.txt', \"r\")\n",
    "    result = []\n",
    "    nodes = set()\n",
    "    for n in f_nedge:\n",
    "        size = int(n.rstrip('\\n'))\n",
    "        edge = []\n",
    "        for v in range(size):\n",
    "            node = int(f_edge.readline().rstrip('\\n'))\n",
    "            edge.append(node)\n",
    "            nodes.add(node)\n",
    "        time = int(f_time.readline().rstrip('\\n'))\n",
    "        #label = f_label.readline().rstrip('\\n')\n",
    "        result.append({'size':size, 'edge':edge, 'time':time})\n",
    "    f_nedge.close()\n",
    "    f_edge.close()\n",
    "    f_time.close()\n",
    "    #f_label.close()\n",
    "    print(\"total number of nodes:\", len(nodes))\n",
    "    return nodes, result\n",
    "\n",
    "directory = '../code1/tags-ask-ubuntu/tags-ask-ubuntu'\n",
    "#load_data(directory)"
   ]
  },
  {
   "cell_type": "code",
   "execution_count": 107,
   "metadata": {},
   "outputs": [],
   "source": [
    "# return weighted graph \n",
    "# split by timestamps \n",
    "def edge_list(timestamped_edges, ratio = 1, max_dimension = 5):\n",
    "    result = {}\n",
    "    size = int(len(timestamped_edges) * ratio)\n",
    "    for i in range(max_dimension):\n",
    "        result[i+1] = {}\n",
    "    #print(result)\n",
    "    for e in timestamped_edges[:size]:\n",
    "        if e['size'] <= max_dimension:\n",
    "            sorted_e = tuple(sorted(e['edge']))\n",
    "            if sorted_e in result[e['size']].keys():\n",
    "                result[e['size']][sorted_e] += 1\n",
    "            else:\n",
    "                result[e['size']][sorted_e] = 1\n",
    "    return result"
   ]
  },
  {
   "cell_type": "code",
   "execution_count": 108,
   "metadata": {},
   "outputs": [],
   "source": [
    "# generate features \n",
    "# example input: (edgelist, 4, [3,2]), output ([order3...order3, order2...order2], order4)\n",
    "# \n",
    "def cross_order_features(edgelist, higher_order, lower_orders):\n",
    "    return null"
   ]
  },
  {
   "cell_type": "code",
   "execution_count": 184,
   "metadata": {},
   "outputs": [
    {
     "name": "stdout",
     "output_type": "stream",
     "text": [
      "total number of nodes: 3029\n"
     ]
    }
   ],
   "source": [
    "nodes, timestamped_edges = load_data(directory)\n",
    "#timestamped_edges"
   ]
  },
  {
   "cell_type": "code",
   "execution_count": 185,
   "metadata": {},
   "outputs": [],
   "source": [
    "edgelist_full = edge_list(timestamped_edges)\n",
    "edgelist_0_5 = edge_list(timestamped_edges, ratio = 0.5)"
   ]
  },
  {
   "cell_type": "code",
   "execution_count": 187,
   "metadata": {},
   "outputs": [
    {
     "data": {
      "text/plain": [
       "45"
      ]
     },
     "execution_count": 187,
     "metadata": {},
     "output_type": "execute_result"
    }
   ],
   "source": [
    "#1. 把G3,4,5都放到G2 用networkx的数据结构\n",
    "#2. 用spectrak clustering算法\n",
    "#3. NMI\n",
    "G_2 = edgelist_full[2]\n",
    "edgelist_full[2][(3,4)]"
   ]
  },
  {
   "cell_type": "code",
   "execution_count": 180,
   "metadata": {},
   "outputs": [],
   "source": [
    "from itertools import combinations\n",
    "def newdic(n): #n dimensional dataset\n",
    "    dic = {}\n",
    "    for line, weight in edgelist_full[n].items():\n",
    "        alist = list(combinations(line,2))\n",
    "        for pair in alist:\n",
    "            dic[pair] = weight\n",
    "    return dic\n",
    "#print(edgelist_full[3])\n",
    "#print(newdic(3))"
   ]
  },
  {
   "cell_type": "code",
   "execution_count": 181,
   "metadata": {},
   "outputs": [],
   "source": [
    "def merge(dict1,dict2): #combine two dict into one dict\n",
    "    for key in dict2: \n",
    "        if key in dict1: \n",
    "            dict2[key] = dict2[key] + dict1[key] \n",
    "        else: \n",
    "            dict2[key] = dict2[key]\n",
    "    return dict2"
   ]
  },
  {
   "cell_type": "code",
   "execution_count": 188,
   "metadata": {},
   "outputs": [
    {
     "data": {
      "text/plain": [
       "47"
      ]
     },
     "execution_count": 188,
     "metadata": {},
     "output_type": "execute_result"
    }
   ],
   "source": [
    "# add three dimensional data to current two dimensional dataset\n",
    "three = newdic(3)\n",
    "G_2 = merge(three, G_2)\n",
    "G_2[(3,4)]"
   ]
  },
  {
   "cell_type": "code",
   "execution_count": 189,
   "metadata": {},
   "outputs": [
    {
     "data": {
      "text/plain": [
       "48"
      ]
     },
     "execution_count": 189,
     "metadata": {},
     "output_type": "execute_result"
    }
   ],
   "source": [
    "# add four dimensional data to current two dimensional dataset\n",
    "three = newdic(4)\n",
    "G_2 = merge(three, G_2)\n",
    "G_2[(3,4)]"
   ]
  },
  {
   "cell_type": "code",
   "execution_count": 190,
   "metadata": {},
   "outputs": [
    {
     "data": {
      "text/plain": [
       "49"
      ]
     },
     "execution_count": 190,
     "metadata": {},
     "output_type": "execute_result"
    }
   ],
   "source": [
    "# add five dimensional data to current two dimensional dataset\n",
    "three = newdic(5)\n",
    "G_2 = merge(three, G_2)\n",
    "G_2[(3,4)]"
   ]
  },
  {
   "cell_type": "code",
   "execution_count": 250,
   "metadata": {},
   "outputs": [],
   "source": [
    "G.clear()"
   ]
  },
  {
   "cell_type": "code",
   "execution_count": 216,
   "metadata": {},
   "outputs": [],
   "source": [
    "#1. 把G3,4,5都放到G2 \n",
    "#2.用networkx的数据结构\n",
    "#3. 用spectrak clustering算法\n",
    "#4. NMI\n",
    "#G_2"
   ]
  },
  {
   "cell_type": "code",
   "execution_count": 251,
   "metadata": {},
   "outputs": [],
   "source": [
    "G = nx.Graph()"
   ]
  },
  {
   "cell_type": "code",
   "execution_count": 254,
   "metadata": {},
   "outputs": [],
   "source": [
    "#add nodes and edges to Graph G\n",
    "for pair, w in G_2.items():\n",
    "    G.add_node(pair[0]) #add nodes\n",
    "    G.add_node(pair[1])\n",
    "    G.add_edge(pair[0],pair[1],weight=w) #add edges"
   ]
  },
  {
   "cell_type": "code",
   "execution_count": null,
   "metadata": {},
   "outputs": [],
   "source": []
  },
  {
   "cell_type": "code",
   "execution_count": 161,
   "metadata": {},
   "outputs": [],
   "source": [
    "#G_2"
   ]
  },
  {
   "cell_type": "code",
   "execution_count": 215,
   "metadata": {},
   "outputs": [
    {
     "data": {
      "text/plain": [
       "<matplotlib.collections.PathCollection at 0x7fc4378e2d90>"
      ]
     },
     "execution_count": 215,
     "metadata": {},
     "output_type": "execute_result"
    },
    {
     "data": {
      "image/png": "[encoded data removed]",
      "text/plain": [
       "<Figure size 432x288 with 1 Axes>"
      ]
     },
     "metadata": {},
     "output_type": "display_data"
    }
   ],
   "source": [
    "A = nx.Graph()\n",
    "A.add_edge('a','b',weight=0.6)\n",
    "A.add_edge('a','c',weight=0.2)\n",
    "A.add_edge('c','d',weight=0.1)\n",
    "A.add_edge('c','e',weight=0.7)\n",
    "A.add_edge('c','f',weight=0.9)\n",
    "A.add_edge('a','d',weight=0.3)\n",
    "elarge = [(u,v) for (u,v,d) in A.edges(data=True) if d['weight']>0.5]\n",
    "esmall = [(u,v) for (u,v,d) in A.edges(data=True) if d['weight']<0.5]\n",
    "pos = nx.spring_layout(A, seed=17)\n",
    "nx.draw_networkx_nodes(A,pos,node_size=1000)\n"
   ]
  },
  {
   "cell_type": "code",
   "execution_count": null,
   "metadata": {},
   "outputs": [],
   "source": []
  }
 ],
 "metadata": {
  "kernelspec": {
   "display_name": "Python 3",
   "language": "python",
   "name": "python3"
  },
  "language_info": {
   "codemirror_mode": {
    "name": "ipython",
    "version": 3
   },
   "file_extension": ".py",
   "mimetype": "text/x-python",
   "name": "python",
   "nbconvert_exporter": "python",
   "pygments_lexer": "ipython3",
   "version": "3.8.5"
  }
 },
 "nbformat": 4,
 "nbformat_minor": 4
}
